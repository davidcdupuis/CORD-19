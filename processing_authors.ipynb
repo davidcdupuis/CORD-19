{
 "cells": [
  {
   "cell_type": "code",
   "execution_count": 3,
   "metadata": {},
   "outputs": [],
   "source": [
    "import json\n",
    "import yaml\n",
    "import os"
   ]
  },
  {
   "cell_type": "code",
   "execution_count": 4,
   "metadata": {},
   "outputs": [
    {
     "name": "stderr",
     "output_type": "stream",
     "text": [
      "C:\\Users\\david\\Anaconda3\\lib\\site-packages\\ipykernel_launcher.py:3: YAMLLoadWarning: calling yaml.load() without Loader=... is deprecated, as the default Loader is unsafe. Please read https://msg.pyyaml.org/load for full details.\n",
      "  This is separate from the ipykernel package so we can avoid doing imports until\n"
     ]
    }
   ],
   "source": [
    "# import configurations\n",
    "with open('config.yaml','r') as ymlfile:\n",
    "    cfg = yaml.load(ymlfile)"
   ]
  },
  {
   "cell_type": "code",
   "execution_count": 10,
   "metadata": {
    "code_folding": [
     0,
     7,
     20,
     31
    ]
   },
   "outputs": [],
   "source": [
    "def get_papers(path):\n",
    "    # get list of papers .json from path\n",
    "    papers = []\n",
    "    for file_name in os.listdir(path):\n",
    "        papers.append(file_name)\n",
    "    return papers\n",
    "\n",
    "def extract_authors(authors_list):\n",
    "    '''\n",
    "        Function to extract authors metadata from list of authors \n",
    "    '''\n",
    "    authors = []\n",
    "    for curr_author in authors_list:\n",
    "        author = {}\n",
    "        author['first']  = curr_author['first']\n",
    "        author['middle'] = curr_author['middle']\n",
    "        author['last']   = curr_author['last']\n",
    "        authors.append(author)\n",
    "    return authors\n",
    "\n",
    "def extract_references(bib_entries):\n",
    "    refs = []\n",
    "    for r in bib_entries:\n",
    "        ref = {}\n",
    "        ref['id'] = bib_entries[r]['ref_id']\n",
    "        ref['title'] = bib_entries[r]['title']\n",
    "        ref['authors'] = bib_entries[r]['authors']\n",
    "        ref['year'] = bib_entries[r]['year']\n",
    "        refs.append(ref)\n",
    "    return refs\n",
    "\n",
    "def get_paper_data(path, paper_id):\n",
    "    file_path = os.path.join(path, paper_id)\n",
    "    with open(file_path, 'r') as f:\n",
    "        paper_info = json.load(f)\n",
    "    return paper_info"
   ]
  },
  {
   "cell_type": "markdown",
   "metadata": {},
   "source": [
    "# Processing Authors\n",
    "\n",
    "From papers extract author information. See if authors can be made unique. Assign paper to authors. Use authors that are referenced as well."
   ]
  },
  {
   "cell_type": "code",
   "execution_count": 17,
   "metadata": {},
   "outputs": [],
   "source": [
    "folders = ['2020-03-13\\\\biorxiv_medrxiv\\\\biorxiv_medrxiv','2020-03-13\\pmc_custom_license\\pmc_custom_license']"
   ]
  },
  {
   "cell_type": "code",
   "execution_count": 5,
   "metadata": {},
   "outputs": [],
   "source": [
    "class Author:\n",
    "    def __init__(self, firstname, middlename, lastname):\n",
    "        self.firstName = firstname\n",
    "        self.middleName = middlename\n",
    "        self.lastName = lastname\n",
    "        self.papers = []\n",
    "    \n",
    "    def __str__(self):\n",
    "        return '{} {} {}'.format(self.firstName, self.middleName, self.lastName)"
   ]
  },
  {
   "cell_type": "markdown",
   "metadata": {},
   "source": [
    "---------------"
   ]
  },
  {
   "cell_type": "code",
   "execution_count": 9,
   "metadata": {},
   "outputs": [],
   "source": [
    "# for each folder\n",
    "# for every paper\n",
    "# get authors of papers\n",
    "# for each reference \n",
    "# get authors of reference"
   ]
  },
  {
   "cell_type": "code",
   "execution_count": 19,
   "metadata": {},
   "outputs": [],
   "source": [
    "path = os.path.join(cfg['data-path'],folders[0])\n",
    "papers = get_papers(path)"
   ]
  },
  {
   "cell_type": "code",
   "execution_count": 23,
   "metadata": {},
   "outputs": [],
   "source": [
    "paper_data = get_paper_data(path,papers[0])"
   ]
  },
  {
   "cell_type": "code",
   "execution_count": 24,
   "metadata": {},
   "outputs": [
    {
     "data": {
      "text/plain": [
       "[{'first': 'Joseph', 'middle': ['C'], 'last': 'Ward'},\n",
       " {'first': 'Lidia', 'middle': [], 'last': 'Lasecka-Dykes'},\n",
       " {'first': 'Chris', 'middle': [], 'last': 'Neil'},\n",
       " {'first': 'Oluwapelumi', 'middle': [], 'last': 'Adeyemi'},\n",
       " {'first': 'Sarah', 'middle': [], 'last': ''},\n",
       " {'first': '', 'middle': [], 'last': 'Gold'},\n",
       " {'first': 'Niall', 'middle': [], 'last': 'Mclean'},\n",
       " {'first': 'Caroline', 'middle': [], 'last': 'Wright'},\n",
       " {'first': 'Morgan', 'middle': ['R'], 'last': 'Herod'},\n",
       " {'first': 'David', 'middle': [], 'last': 'Kealy'},\n",
       " {'first': 'Emma', 'middle': [], 'last': ''},\n",
       " {'first': 'Warner', 'middle': [], 'last': ''},\n",
       " {'first': 'Donald', 'middle': ['P'], 'last': 'King'},\n",
       " {'first': 'Tobias', 'middle': ['J'], 'last': 'Tuthill'},\n",
       " {'first': 'David', 'middle': ['J'], 'last': 'Rowlands'},\n",
       " {'first': 'Nicola', 'middle': ['J'], 'last': ''},\n",
       " {'first': 'Stonehouse', 'middle': [], 'last': 'A#'}]"
      ]
     },
     "execution_count": 24,
     "metadata": {},
     "output_type": "execute_result"
    }
   ],
   "source": [
    "extract_authors(paper_data['metadata']['authors'])"
   ]
  },
  {
   "cell_type": "code",
   "execution_count": 27,
   "metadata": {},
   "outputs": [
    {
     "data": {
      "text/plain": [
       "'The RNA pseudoknots in foot-and-mouth disease virus are dispensable for genome replication but essential for the production of infectious virus. 2 3'"
      ]
     },
     "execution_count": 27,
     "metadata": {},
     "output_type": "execute_result"
    }
   ],
   "source": [
    "paper_data['metadata']['title']"
   ]
  },
  {
   "cell_type": "code",
   "execution_count": null,
   "metadata": {},
   "outputs": [],
   "source": []
  }
 ],
 "metadata": {
  "kernelspec": {
   "display_name": "Python 3",
   "language": "python",
   "name": "python3"
  },
  "language_info": {
   "codemirror_mode": {
    "name": "ipython",
    "version": 3
   },
   "file_extension": ".py",
   "mimetype": "text/x-python",
   "name": "python",
   "nbconvert_exporter": "python",
   "pygments_lexer": "ipython3",
   "version": "3.7.3"
  },
  "toc": {
   "base_numbering": 1,
   "nav_menu": {},
   "number_sections": true,
   "sideBar": true,
   "skip_h1_title": false,
   "title_cell": "Table of Contents",
   "title_sidebar": "Contents",
   "toc_cell": false,
   "toc_position": {},
   "toc_section_display": true,
   "toc_window_display": false
  }
 },
 "nbformat": 4,
 "nbformat_minor": 2
}
